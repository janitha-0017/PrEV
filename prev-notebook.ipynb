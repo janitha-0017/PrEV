{
 "cells": [
  {
   "cell_type": "code",
   "execution_count": null,
   "id": "cbbfbbe8",
   "metadata": {},
   "outputs": [],
   "source": [
    "import pandas as pd\n",
    "from sklearn.model_selection import train_test_split\n",
    "from sklearn.ensemble import RandomForestClassifier\n",
    "from sklearn.metrics import accuracy_score"
   ]
  },
  {
   "cell_type": "code",
   "execution_count": null,
   "id": "e62e6a40",
   "metadata": {},
   "outputs": [],
   "source": [
    "min_value = 0\n",
    "max_value = 100\n",
    "\n",
    "# Clean Data\n",
    "clean_data = historical_data.dropna()  # Drop rows with missing values\n",
    "clean_data = clean_data[(clean_data['sensor_reading'] >= min_value) & (clean_data['sensor_reading'] <= max_value)] "
   ]
  },
  {
   "cell_type": "code",
   "execution_count": null,
   "id": "691a00cb",
   "metadata": {},
   "outputs": [],
   "source": [
    "# Split Dataset\n",
    "X = clean_data.drop(columns=['maintenance_event'])\n",
    "y = clean_data['maintenance_event']\n",
    "X_train, X_test, y_train, y_test = train_test_split(X, y, test_size=0.2, random_state=42)"
   ]
  },
  {
   "cell_type": "code",
   "execution_count": null,
   "id": "8aa10694",
   "metadata": {},
   "outputs": [],
   "source": [
    "# Train Model\n",
    "model = RandomForestClassifier()\n",
    "model.fit(X_train, y_train)"
   ]
  },
  {
   "cell_type": "code",
   "execution_count": null,
   "id": "8e276dcd",
   "metadata": {},
   "outputs": [],
   "source": [
    "# Apply Model\n",
    "predictions = model.predict(new_data)\n",
    "\n",
    "# Generate Alerts\n",
    "for prediction in predictions:\n",
    "    if prediction == 'maintenance_event':\n",
    "        print(\"Maintenance alert: Schedule maintenance!\")"
   ]
  },
  {
   "cell_type": "code",
   "execution_count": null,
   "id": "9cd3df19",
   "metadata": {},
   "outputs": [],
   "source": [
    "# Calculate Performance Metrics\n",
    "y_pred = model.predict(X_test)\n",
    "accuracy = accuracy_score(y_test, y_pred)\n",
    "print(\"Accuracy:\", accuracy)"
   ]
  }
 ],
 "metadata": {
  "kernelspec": {
   "display_name": "Python 3 (ipykernel)",
   "language": "python",
   "name": "python3"
  },
  "language_info": {
   "codemirror_mode": {
    "name": "ipython",
    "version": 3
   },
   "file_extension": ".py",
   "mimetype": "text/x-python",
   "name": "python",
   "nbconvert_exporter": "python",
   "pygments_lexer": "ipython3",
   "version": "3.9.7"
  }
 },
 "nbformat": 4,
 "nbformat_minor": 5
}
